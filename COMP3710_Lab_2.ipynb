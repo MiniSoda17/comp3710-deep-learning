{
  "cells": [
    {
      "cell_type": "markdown",
      "metadata": {
        "id": "view-in-github",
        "colab_type": "text"
      },
      "source": [
        "<a href=\"https://colab.research.google.com/github/MiniSoda17/comp3710-deep-learning/blob/main/COMP3710_Lab_2.ipynb\" target=\"_parent\"><img src=\"https://colab.research.google.com/assets/colab-badge.svg\" alt=\"Open In Colab\"/></a>"
      ]
    },
    {
      "cell_type": "markdown",
      "source": [
        "# 3.3 DawnBench\n"
      ],
      "metadata": {
        "id": "KJ9q_m3VzBad"
      }
    },
    {
      "cell_type": "code",
      "source": [
        "from google.colab import drive\n",
        "drive.mount(\"/content/drive\")"
      ],
      "metadata": {
        "colab": {
          "base_uri": "https://localhost:8080/"
        },
        "id": "B1ESEufxWvBk",
        "outputId": "04c8cec4-fa4b-4349-90da-3658c1a94abe"
      },
      "execution_count": null,
      "outputs": [
        {
          "output_type": "stream",
          "name": "stdout",
          "text": [
            "Drive already mounted at /content/drive; to attempt to forcibly remount, call drive.mount(\"/content/drive\", force_remount=True).\n"
          ]
        }
      ]
    },
    {
      "cell_type": "code",
      "source": [
        "import torch\n",
        "import torch.nn as nn\n",
        "import torch.optim as optim\n",
        "import torchvision\n",
        "import torchvision.transforms as transforms\n",
        "from tqdm import tqdm\n",
        "from torch.cuda.amp import GradScaler, autocast\n",
        "from sklearn.metrics import classification_report\n",
        "\n",
        "device = torch.device(\"cuda\" if torch.cuda.is_available() else \"cpu\")\n",
        "print(f\"Using device: {device}\")\n"
      ],
      "metadata": {
        "colab": {
          "base_uri": "https://localhost:8080/"
        },
        "id": "4o5V2sSyRSrZ",
        "outputId": "f9626587-1a5c-426b-fb77-e0e977279ae8"
      },
      "execution_count": null,
      "outputs": [
        {
          "output_type": "stream",
          "name": "stdout",
          "text": [
            "Using device: cuda\n"
          ]
        }
      ]
    },
    {
      "cell_type": "code",
      "source": [
        "# CIFAR-10 transforms\n",
        "transform_train = transforms.Compose([\n",
        "    transforms.RandomCrop(32, padding=4),\n",
        "    transforms.RandomHorizontalFlip(),\n",
        "    transforms.ToTensor(),\n",
        "    transforms.Normalize((0.4914, 0.4822, 0.4465),\n",
        "                         (0.2023, 0.1994, 0.2010)),\n",
        "])\n",
        "\n",
        "transform_test = transforms.Compose([\n",
        "    transforms.ToTensor(),\n",
        "    transforms.Normalize((0.4914, 0.4822, 0.4465),\n",
        "                         (0.2023, 0.1994, 0.2010)),\n",
        "])\n",
        "\n",
        "# Datasets + Dataloaders\n",
        "batch_size = 512\n",
        "trainset = torchvision.datasets.CIFAR10(root='./data', train=True, download=True, transform=transform_train)\n",
        "trainloader = torch.utils.data.DataLoader(trainset, batch_size=batch_size, shuffle=True, num_workers=4, pin_memory=True)\n",
        "\n",
        "testset = torchvision.datasets.CIFAR10(root='./data', train=False, download=True, transform=transform_test)\n",
        "testloader = torch.utils.data.DataLoader(testset, batch_size=batch_size, shuffle=False, num_workers=4, pin_memory=True)\n",
        "\n",
        "classes = ('plane', 'car', 'bird', 'cat', 'deer', 'dog', 'frog', 'horse', 'ship', 'truck')\n",
        "n_classes = len(classes)"
      ],
      "metadata": {
        "id": "0bFVzAv6RV3l"
      },
      "execution_count": null,
      "outputs": []
    },
    {
      "cell_type": "code",
      "source": [
        "def conv3x3(in_planes, out_planes, stride=1):\n",
        "    return nn.Conv2d(in_planes, out_planes, kernel_size=3, stride=stride,\n",
        "                     padding=1, bias=False)\n",
        "\n",
        "class BasicBlock(nn.Module):\n",
        "    expansion = 1\n",
        "    def __init__(self, in_planes, planes, stride=1):\n",
        "        super().__init__()\n",
        "        self.conv1 = conv3x3(in_planes, planes, stride)\n",
        "        self.bn1 = nn.BatchNorm2d(planes)\n",
        "        self.relu = nn.ReLU(inplace=True)\n",
        "        self.conv2 = conv3x3(planes, planes)\n",
        "        self.bn2 = nn.BatchNorm2d(planes)\n",
        "        self.downsample = None\n",
        "        if stride != 1 or in_planes != planes:\n",
        "            self.downsample = nn.Sequential(\n",
        "                nn.Conv2d(in_planes, planes, kernel_size=1, stride=stride, bias=False),\n",
        "                nn.BatchNorm2d(planes)\n",
        "            )\n",
        "    def forward(self, x):\n",
        "        identity = x\n",
        "        out = self.relu(self.bn1(self.conv1(x)))\n",
        "        out = self.bn2(self.conv2(out))\n",
        "        if self.downsample is not None:\n",
        "            identity = self.downsample(x)\n",
        "        out += identity\n",
        "        out = self.relu(out)\n",
        "        return out\n",
        "\n",
        "class ResNet18(nn.Module):\n",
        "    def __init__(self, num_classes=10):\n",
        "        super().__init__()\n",
        "        self.in_planes = 64\n",
        "        self.conv1 = nn.Conv2d(3, 64, kernel_size=3, stride=1, padding=1, bias=False)\n",
        "        self.bn1 = nn.BatchNorm2d(64)\n",
        "        self.relu = nn.ReLU(inplace=True)\n",
        "        self.layer1 = self._make_layer(64, 2, stride=1)\n",
        "        self.layer2 = self._make_layer(128, 2, stride=2)\n",
        "        self.layer3 = self._make_layer(256, 2, stride=2)\n",
        "        self.layer4 = self._make_layer(512, 2, stride=2)\n",
        "        self.avgpool = nn.AdaptiveAvgPool2d((1,1))\n",
        "        self.fc = nn.Linear(512, num_classes)\n",
        "    def _make_layer(self, planes, blocks, stride):\n",
        "        layers = []\n",
        "        layers.append(BasicBlock(self.in_planes, planes, stride))\n",
        "        self.in_planes = planes\n",
        "        for _ in range(1, blocks):\n",
        "            layers.append(BasicBlock(self.in_planes, planes))\n",
        "        return nn.Sequential(*layers)\n",
        "    def forward(self, x):\n",
        "        out = self.relu(self.bn1(self.conv1(x)))\n",
        "        out = self.layer1(out)\n",
        "        out = self.layer2(out)\n",
        "        out = self.layer3(out)\n",
        "        out = self.layer4(out)\n",
        "        out = self.avgpool(out)\n",
        "        out = torch.flatten(out, 1)\n",
        "        out = self.fc(out)\n",
        "        return out\n",
        "\n",
        "# def conv3x3(in_planes, out_planes, stride=1):\n",
        "#     return nn.Conv2d(in_planes, out_planes, kernel_size=3, stride=stride,\n",
        "#                      padding=1, bias=False)\n",
        "\n",
        "# def conv1x1(in_planes, out_planes, stride=1):\n",
        "#     return nn.Conv2d(in_planes, out_planes, kernel_size=1, stride=stride, bias=False)\n",
        "\n",
        "# class BasicBlock(nn.Module):\n",
        "#     expansion = 1\n",
        "#     def __init__(self, in_planes, planes, stride=1, dropout_rate=0.1):\n",
        "#         super().__init__()\n",
        "#         self.conv1 = conv3x3(in_planes, planes, stride)\n",
        "#         self.bn1 = nn.BatchNorm2d(planes)\n",
        "#         self.relu = nn.ReLU(inplace=True)\n",
        "#         self.dropout1 = nn.Dropout2d(dropout_rate) if dropout_rate > 0 else nn.Identity()\n",
        "\n",
        "#         self.conv2 = conv3x3(planes, planes)\n",
        "#         self.bn2 = nn.BatchNorm2d(planes)\n",
        "#         self.dropout2 = nn.Dropout2d(dropout_rate) if dropout_rate > 0 else nn.Identity()\n",
        "\n",
        "#         self.downsample = None\n",
        "#         if stride != 1 or in_planes != planes:\n",
        "#             self.downsample = nn.Sequential(\n",
        "#                 conv1x1(in_planes, planes, stride),\n",
        "#                 nn.BatchNorm2d(planes)\n",
        "#             )\n",
        "\n",
        "#         # Improved weight initialization\n",
        "#         self._init_weights()\n",
        "\n",
        "#     def _init_weights(self):\n",
        "#         for m in self.modules():\n",
        "#             if isinstance(m, nn.Conv2d):\n",
        "#                 nn.init.kaiming_normal_(m.weight, mode='fan_out', nonlinearity='relu')\n",
        "#             elif isinstance(m, nn.BatchNorm2d):\n",
        "#                 nn.init.constant_(m.weight, 1)\n",
        "#                 nn.init.constant_(m.bias, 0)\n",
        "\n",
        "#     def forward(self, x):\n",
        "#         identity = x\n",
        "\n",
        "#         out = self.conv1(x)\n",
        "#         out = self.bn1(out)\n",
        "#         out = self.relu(out)\n",
        "#         out = self.dropout1(out)\n",
        "\n",
        "#         out = self.conv2(out)\n",
        "#         out = self.bn2(out)\n",
        "#         out = self.dropout2(out)\n",
        "\n",
        "#         if self.downsample is not None:\n",
        "#             identity = self.downsample(x)\n",
        "\n",
        "#         out += identity\n",
        "#         out = self.relu(out)\n",
        "#         return out\n",
        "\n",
        "# class ResNet18(nn.Module):\n",
        "#     def __init__(self, num_classes=10, dropout_rate=0.1, use_mixup=False):\n",
        "#         super().__init__()\n",
        "#         self.in_planes = 64\n",
        "#         self.use_mixup = use_mixup\n",
        "\n",
        "#         # Enhanced initial conv with proper padding for CIFAR-10\n",
        "#         self.conv1 = nn.Conv2d(3, 64, kernel_size=3, stride=1, padding=1, bias=False)\n",
        "#         self.bn1 = nn.BatchNorm2d(64)\n",
        "#         self.relu = nn.ReLU(inplace=True)\n",
        "\n",
        "#         # ResNet layers with dropout\n",
        "#         self.layer1 = self._make_layer(64, 2, stride=1, dropout_rate=dropout_rate)\n",
        "#         self.layer2 = self._make_layer(128, 2, stride=2, dropout_rate=dropout_rate)\n",
        "#         self.layer3 = self._make_layer(256, 2, stride=2, dropout_rate=dropout_rate)\n",
        "#         self.layer4 = self._make_layer(512, 2, stride=2, dropout_rate=dropout_rate)\n",
        "\n",
        "#         # Enhanced pooling and classification head\n",
        "#         self.avgpool = nn.AdaptiveAvgPool2d((1, 1))\n",
        "#         self.dropout = nn.Dropout(0.5)  # Stronger dropout before final layer\n",
        "#         self.fc = nn.Linear(512, num_classes)\n",
        "\n",
        "#         # Initialize weights\n",
        "#         self._init_weights()\n",
        "\n",
        "#     def _init_weights(self):\n",
        "#         for m in self.modules():\n",
        "#             if isinstance(m, nn.Conv2d):\n",
        "#                 nn.init.kaiming_normal_(m.weight, mode='fan_out', nonlinearity='relu')\n",
        "#             elif isinstance(m, nn.BatchNorm2d):\n",
        "#                 nn.init.constant_(m.weight, 1)\n",
        "#                 nn.init.constant_(m.bias, 0)\n",
        "#             elif isinstance(m, nn.Linear):\n",
        "#                 nn.init.normal_(m.weight, 0, 0.01)\n",
        "#                 nn.init.constant_(m.bias, 0)\n",
        "\n",
        "#     def _make_layer(self, planes, blocks, stride, dropout_rate=0.1):\n",
        "#         layers = []\n",
        "#         layers.append(BasicBlock(self.in_planes, planes, stride, dropout_rate))\n",
        "#         self.in_planes = planes\n",
        "#         for _ in range(1, blocks):\n",
        "#             layers.append(BasicBlock(self.in_planes, planes, dropout_rate=dropout_rate))\n",
        "#         return nn.Sequential(*layers)\n",
        "\n",
        "#     def forward(self, x):\n",
        "#         out = self.conv1(x)\n",
        "#         out = self.bn1(out)\n",
        "#         out = self.relu(out)\n",
        "\n",
        "#         out = self.layer1(out)\n",
        "#         out = self.layer2(out)\n",
        "#         out = self.layer3(out)\n",
        "#         out = self.layer4(out)\n",
        "\n",
        "#         out = self.avgpool(out)\n",
        "#         out = torch.flatten(out, 1)\n",
        "#         out = self.dropout(out)\n",
        "#         out = self.fc(out)\n",
        "#         return out\n",
        "\n",
        "# # Optional: Label Smoothing Loss for better generalization\n",
        "# class LabelSmoothingCrossEntropy(nn.Module):\n",
        "#     def __init__(self, smoothing=0.1):\n",
        "#         super().__init__()\n",
        "#         self.smoothing = smoothing\n",
        "\n",
        "#     def forward(self, x, target):\n",
        "#         confidence = 1. - self.smoothing\n",
        "#         logprobs = F.log_softmax(x, dim=-1)\n",
        "#         nll_loss = -logprobs.gather(dim=-1, index=target.unsqueeze(1))\n",
        "#         nll_loss = nll_loss.squeeze(1)\n",
        "#         smooth_loss = -logprobs.mean(dim=-1)\n",
        "#         loss = confidence * nll_loss + self.smoothing * smooth_loss\n",
        "#         return loss.mean()\n",
        "\n",
        "# # Usage example:\n",
        "# # model = ResNet18(num_classes=10, dropout_rate=0.1)\n",
        "# # criterion = LabelSmoothingCrossEntropy(smoothing=0.1)  # Instead of nn.CrossEntropyLoss()\n"
      ],
      "metadata": {
        "id": "wNq38MBjRaDB"
      },
      "execution_count": null,
      "outputs": []
    },
    {
      "cell_type": "code",
      "source": [
        "model = ResNet18(num_classes=n_classes).to(device)\n",
        "criterion = nn.CrossEntropyLoss()\n",
        "optimizer = optim.AdamW(model.parameters(), lr=0.001, weight_decay=1e-4)\n",
        "scheduler = torch.optim.lr_scheduler.OneCycleLR(\n",
        "    optimizer, max_lr=0.01, epochs=40, steps_per_epoch=len(trainloader)\n",
        ")\n",
        "scaler = GradScaler()\n",
        "\n",
        "num_epochs = 40\n",
        "for epoch in range(num_epochs):\n",
        "    model.train()\n",
        "    running_loss = 0.0\n",
        "    progress_bar = tqdm(trainloader, desc=f\"Epoch {epoch+1}/{num_epochs}\")\n",
        "    for inputs, labels in progress_bar:\n",
        "        inputs, labels = inputs.to(device), labels.to(device)\n",
        "        optimizer.zero_grad()\n",
        "        with autocast():\n",
        "            outputs = model(inputs)\n",
        "            loss = criterion(outputs, labels)\n",
        "        scaler.scale(loss).backward()\n",
        "        scaler.step(optimizer)\n",
        "        scaler.update()\n",
        "        scheduler.step()\n",
        "        running_loss += loss.item()\n",
        "        progress_bar.set_postfix(loss=running_loss/len(trainloader))\n",
        "\n",
        "    # Validation\n",
        "    model.eval()\n",
        "    correct, total = 0, 0\n",
        "    with torch.no_grad():\n",
        "        for inputs, labels in testloader:\n",
        "            inputs, labels = inputs.to(device), labels.to(device)\n",
        "            with autocast():\n",
        "                outputs = model(inputs)\n",
        "            _, predicted = torch.max(outputs, 1)\n",
        "            total += labels.size(0)\n",
        "            correct += (predicted == labels).sum().item()\n",
        "    accuracy = 100 * correct / total\n",
        "    print(f\"Epoch [{epoch+1}/{num_epochs}], Accuracy: {accuracy:.2f}%\")\n",
        "\n",
        "torch.save(model.state_dict(), \"/content/drive/MyDrive/resnet18_cifar10.pth\")\n",
        "print(\"Target reached. Model saved!\")\n",
        "\n"
      ],
      "metadata": {
        "colab": {
          "base_uri": "https://localhost:8080/"
        },
        "id": "3ySwtU6kReCY",
        "outputId": "d41ab63b-7ed2-4a8d-8c47-0ad05025150c"
      },
      "execution_count": null,
      "outputs": [
        {
          "output_type": "stream",
          "name": "stderr",
          "text": [
            "/tmp/ipython-input-3969628217.py:7: FutureWarning: `torch.cuda.amp.GradScaler(args...)` is deprecated. Please use `torch.amp.GradScaler('cuda', args...)` instead.\n",
            "  scaler = GradScaler()\n",
            "Epoch 1/40:   0%|          | 0/98 [00:00<?, ?it/s]/tmp/ipython-input-3969628217.py:17: FutureWarning: `torch.cuda.amp.autocast(args...)` is deprecated. Please use `torch.amp.autocast('cuda', args...)` instead.\n",
            "  with autocast():\n",
            "Epoch 1/40: 100%|██████████| 98/98 [00:05<00:00, 18.69it/s, loss=1.47]\n",
            "/tmp/ipython-input-3969628217.py:33: FutureWarning: `torch.cuda.amp.autocast(args...)` is deprecated. Please use `torch.amp.autocast('cuda', args...)` instead.\n",
            "  with autocast():\n"
          ]
        },
        {
          "output_type": "stream",
          "name": "stdout",
          "text": [
            "Epoch [1/40], Accuracy: 53.76%\n"
          ]
        },
        {
          "output_type": "stream",
          "name": "stderr",
          "text": [
            "Epoch 2/40: 100%|██████████| 98/98 [00:05<00:00, 18.08it/s, loss=1.04]\n"
          ]
        },
        {
          "output_type": "stream",
          "name": "stdout",
          "text": [
            "Epoch [2/40], Accuracy: 52.67%\n"
          ]
        },
        {
          "output_type": "stream",
          "name": "stderr",
          "text": [
            "Epoch 3/40: 100%|██████████| 98/98 [00:05<00:00, 18.60it/s, loss=0.832]\n"
          ]
        },
        {
          "output_type": "stream",
          "name": "stdout",
          "text": [
            "Epoch [3/40], Accuracy: 60.25%\n"
          ]
        },
        {
          "output_type": "stream",
          "name": "stderr",
          "text": [
            "Epoch 4/40: 100%|██████████| 98/98 [00:05<00:00, 17.96it/s, loss=0.714]\n"
          ]
        },
        {
          "output_type": "stream",
          "name": "stdout",
          "text": [
            "Epoch [4/40], Accuracy: 52.47%\n"
          ]
        },
        {
          "output_type": "stream",
          "name": "stderr",
          "text": [
            "Epoch 5/40: 100%|██████████| 98/98 [00:05<00:00, 18.35it/s, loss=0.62]\n"
          ]
        },
        {
          "output_type": "stream",
          "name": "stdout",
          "text": [
            "Epoch [5/40], Accuracy: 71.63%\n"
          ]
        },
        {
          "output_type": "stream",
          "name": "stderr",
          "text": [
            "Epoch 6/40: 100%|██████████| 98/98 [00:05<00:00, 18.02it/s, loss=0.573]\n"
          ]
        },
        {
          "output_type": "stream",
          "name": "stdout",
          "text": [
            "Epoch [6/40], Accuracy: 72.15%\n"
          ]
        },
        {
          "output_type": "stream",
          "name": "stderr",
          "text": [
            "Epoch 7/40: 100%|██████████| 98/98 [00:05<00:00, 17.91it/s, loss=0.507]\n"
          ]
        },
        {
          "output_type": "stream",
          "name": "stdout",
          "text": [
            "Epoch [7/40], Accuracy: 71.37%\n"
          ]
        },
        {
          "output_type": "stream",
          "name": "stderr",
          "text": [
            "Epoch 8/40: 100%|██████████| 98/98 [00:05<00:00, 18.61it/s, loss=0.461]\n"
          ]
        },
        {
          "output_type": "stream",
          "name": "stdout",
          "text": [
            "Epoch [8/40], Accuracy: 72.78%\n"
          ]
        },
        {
          "output_type": "stream",
          "name": "stderr",
          "text": [
            "Epoch 9/40: 100%|██████████| 98/98 [00:05<00:00, 18.53it/s, loss=0.422]\n"
          ]
        },
        {
          "output_type": "stream",
          "name": "stdout",
          "text": [
            "Epoch [9/40], Accuracy: 77.76%\n"
          ]
        },
        {
          "output_type": "stream",
          "name": "stderr",
          "text": [
            "Epoch 10/40: 100%|██████████| 98/98 [00:05<00:00, 18.42it/s, loss=0.385]\n"
          ]
        },
        {
          "output_type": "stream",
          "name": "stdout",
          "text": [
            "Epoch [10/40], Accuracy: 81.43%\n"
          ]
        },
        {
          "output_type": "stream",
          "name": "stderr",
          "text": [
            "Epoch 11/40: 100%|██████████| 98/98 [00:05<00:00, 18.42it/s, loss=0.354]\n"
          ]
        },
        {
          "output_type": "stream",
          "name": "stdout",
          "text": [
            "Epoch [11/40], Accuracy: 84.26%\n"
          ]
        },
        {
          "output_type": "stream",
          "name": "stderr",
          "text": [
            "Epoch 12/40: 100%|██████████| 98/98 [00:05<00:00, 18.22it/s, loss=0.326]\n"
          ]
        },
        {
          "output_type": "stream",
          "name": "stdout",
          "text": [
            "Epoch [12/40], Accuracy: 85.89%\n"
          ]
        },
        {
          "output_type": "stream",
          "name": "stderr",
          "text": [
            "Epoch 13/40: 100%|██████████| 98/98 [00:05<00:00, 18.61it/s, loss=0.293]\n"
          ]
        },
        {
          "output_type": "stream",
          "name": "stdout",
          "text": [
            "Epoch [13/40], Accuracy: 85.87%\n"
          ]
        },
        {
          "output_type": "stream",
          "name": "stderr",
          "text": [
            "Epoch 14/40: 100%|██████████| 98/98 [00:05<00:00, 18.13it/s, loss=0.261]\n"
          ]
        },
        {
          "output_type": "stream",
          "name": "stdout",
          "text": [
            "Epoch [14/40], Accuracy: 87.88%\n"
          ]
        },
        {
          "output_type": "stream",
          "name": "stderr",
          "text": [
            "Epoch 15/40: 100%|██████████| 98/98 [00:05<00:00, 18.45it/s, loss=0.243]\n"
          ]
        },
        {
          "output_type": "stream",
          "name": "stdout",
          "text": [
            "Epoch [15/40], Accuracy: 77.35%\n"
          ]
        },
        {
          "output_type": "stream",
          "name": "stderr",
          "text": [
            "Epoch 16/40: 100%|██████████| 98/98 [00:05<00:00, 18.48it/s, loss=0.219]\n"
          ]
        },
        {
          "output_type": "stream",
          "name": "stdout",
          "text": [
            "Epoch [16/40], Accuracy: 85.56%\n"
          ]
        },
        {
          "output_type": "stream",
          "name": "stderr",
          "text": [
            "Epoch 17/40: 100%|██████████| 98/98 [00:05<00:00, 18.40it/s, loss=0.205]\n"
          ]
        },
        {
          "output_type": "stream",
          "name": "stdout",
          "text": [
            "Epoch [17/40], Accuracy: 87.31%\n"
          ]
        },
        {
          "output_type": "stream",
          "name": "stderr",
          "text": [
            "Epoch 18/40: 100%|██████████| 98/98 [00:05<00:00, 18.76it/s, loss=0.185]\n"
          ]
        },
        {
          "output_type": "stream",
          "name": "stdout",
          "text": [
            "Epoch [18/40], Accuracy: 86.58%\n"
          ]
        },
        {
          "output_type": "stream",
          "name": "stderr",
          "text": [
            "Epoch 19/40: 100%|██████████| 98/98 [00:05<00:00, 18.61it/s, loss=0.169]\n"
          ]
        },
        {
          "output_type": "stream",
          "name": "stdout",
          "text": [
            "Epoch [19/40], Accuracy: 89.39%\n"
          ]
        },
        {
          "output_type": "stream",
          "name": "stderr",
          "text": [
            "Epoch 20/40: 100%|██████████| 98/98 [00:05<00:00, 18.67it/s, loss=0.147]\n"
          ]
        },
        {
          "output_type": "stream",
          "name": "stdout",
          "text": [
            "Epoch [20/40], Accuracy: 87.93%\n"
          ]
        },
        {
          "output_type": "stream",
          "name": "stderr",
          "text": [
            "Epoch 21/40: 100%|██████████| 98/98 [00:05<00:00, 18.52it/s, loss=0.136]\n"
          ]
        },
        {
          "output_type": "stream",
          "name": "stdout",
          "text": [
            "Epoch [21/40], Accuracy: 90.26%\n"
          ]
        },
        {
          "output_type": "stream",
          "name": "stderr",
          "text": [
            "Epoch 22/40: 100%|██████████| 98/98 [00:05<00:00, 18.70it/s, loss=0.128]\n"
          ]
        },
        {
          "output_type": "stream",
          "name": "stdout",
          "text": [
            "Epoch [22/40], Accuracy: 90.74%\n"
          ]
        },
        {
          "output_type": "stream",
          "name": "stderr",
          "text": [
            "Epoch 23/40: 100%|██████████| 98/98 [00:05<00:00, 18.26it/s, loss=0.108]\n"
          ]
        },
        {
          "output_type": "stream",
          "name": "stdout",
          "text": [
            "Epoch [23/40], Accuracy: 90.80%\n"
          ]
        },
        {
          "output_type": "stream",
          "name": "stderr",
          "text": [
            "Epoch 24/40: 100%|██████████| 98/98 [00:05<00:00, 18.55it/s, loss=0.0959]\n"
          ]
        },
        {
          "output_type": "stream",
          "name": "stdout",
          "text": [
            "Epoch [24/40], Accuracy: 90.27%\n"
          ]
        },
        {
          "output_type": "stream",
          "name": "stderr",
          "text": [
            "Epoch 25/40: 100%|██████████| 98/98 [00:05<00:00, 17.62it/s, loss=0.0883]\n"
          ]
        },
        {
          "output_type": "stream",
          "name": "stdout",
          "text": [
            "Epoch [25/40], Accuracy: 89.79%\n"
          ]
        },
        {
          "output_type": "stream",
          "name": "stderr",
          "text": [
            "Epoch 26/40: 100%|██████████| 98/98 [00:05<00:00, 18.16it/s, loss=0.073]\n"
          ]
        },
        {
          "output_type": "stream",
          "name": "stdout",
          "text": [
            "Epoch [26/40], Accuracy: 91.49%\n"
          ]
        },
        {
          "output_type": "stream",
          "name": "stderr",
          "text": [
            "Epoch 27/40: 100%|██████████| 98/98 [00:05<00:00, 18.44it/s, loss=0.0618]\n"
          ]
        },
        {
          "output_type": "stream",
          "name": "stdout",
          "text": [
            "Epoch [27/40], Accuracy: 91.64%\n"
          ]
        },
        {
          "output_type": "stream",
          "name": "stderr",
          "text": [
            "Epoch 28/40: 100%|██████████| 98/98 [00:05<00:00, 18.79it/s, loss=0.0519]\n"
          ]
        },
        {
          "output_type": "stream",
          "name": "stdout",
          "text": [
            "Epoch [28/40], Accuracy: 91.98%\n"
          ]
        },
        {
          "output_type": "stream",
          "name": "stderr",
          "text": [
            "Epoch 29/40: 100%|██████████| 98/98 [00:05<00:00, 18.44it/s, loss=0.0442]\n"
          ]
        },
        {
          "output_type": "stream",
          "name": "stdout",
          "text": [
            "Epoch [29/40], Accuracy: 92.51%\n"
          ]
        },
        {
          "output_type": "stream",
          "name": "stderr",
          "text": [
            "Epoch 30/40: 100%|██████████| 98/98 [00:05<00:00, 18.91it/s, loss=0.0355]\n"
          ]
        },
        {
          "output_type": "stream",
          "name": "stdout",
          "text": [
            "Epoch [30/40], Accuracy: 92.60%\n"
          ]
        },
        {
          "output_type": "stream",
          "name": "stderr",
          "text": [
            "Epoch 31/40: 100%|██████████| 98/98 [00:05<00:00, 18.40it/s, loss=0.0249]\n"
          ]
        },
        {
          "output_type": "stream",
          "name": "stdout",
          "text": [
            "Epoch [31/40], Accuracy: 93.01%\n"
          ]
        },
        {
          "output_type": "stream",
          "name": "stderr",
          "text": [
            "Epoch 32/40: 100%|██████████| 98/98 [00:05<00:00, 18.79it/s, loss=0.0196]\n"
          ]
        },
        {
          "output_type": "stream",
          "name": "stdout",
          "text": [
            "Epoch [32/40], Accuracy: 93.12%\n"
          ]
        },
        {
          "output_type": "stream",
          "name": "stderr",
          "text": [
            "Epoch 33/40: 100%|██████████| 98/98 [00:05<00:00, 18.65it/s, loss=0.0131]\n"
          ]
        },
        {
          "output_type": "stream",
          "name": "stdout",
          "text": [
            "Epoch [33/40], Accuracy: 93.20%\n"
          ]
        },
        {
          "output_type": "stream",
          "name": "stderr",
          "text": [
            "Epoch 34/40: 100%|██████████| 98/98 [00:05<00:00, 18.73it/s, loss=0.0116]\n"
          ]
        },
        {
          "output_type": "stream",
          "name": "stdout",
          "text": [
            "Epoch [34/40], Accuracy: 93.14%\n"
          ]
        },
        {
          "output_type": "stream",
          "name": "stderr",
          "text": [
            "Epoch 35/40: 100%|██████████| 98/98 [00:05<00:00, 18.68it/s, loss=0.00799]\n"
          ]
        },
        {
          "output_type": "stream",
          "name": "stdout",
          "text": [
            "Epoch [35/40], Accuracy: 93.38%\n"
          ]
        },
        {
          "output_type": "stream",
          "name": "stderr",
          "text": [
            "Epoch 36/40: 100%|██████████| 98/98 [00:05<00:00, 18.71it/s, loss=0.00719]\n"
          ]
        },
        {
          "output_type": "stream",
          "name": "stdout",
          "text": [
            "Epoch [36/40], Accuracy: 93.34%\n"
          ]
        },
        {
          "output_type": "stream",
          "name": "stderr",
          "text": [
            "Epoch 37/40: 100%|██████████| 98/98 [00:05<00:00, 18.52it/s, loss=0.0058]\n"
          ]
        },
        {
          "output_type": "stream",
          "name": "stdout",
          "text": [
            "Epoch [37/40], Accuracy: 93.54%\n"
          ]
        },
        {
          "output_type": "stream",
          "name": "stderr",
          "text": [
            "Epoch 38/40: 100%|██████████| 98/98 [00:05<00:00, 18.65it/s, loss=0.00508]\n"
          ]
        },
        {
          "output_type": "stream",
          "name": "stdout",
          "text": [
            "Epoch [38/40], Accuracy: 93.46%\n"
          ]
        },
        {
          "output_type": "stream",
          "name": "stderr",
          "text": [
            "Epoch 39/40: 100%|██████████| 98/98 [00:05<00:00, 18.83it/s, loss=0.00544]\n"
          ]
        },
        {
          "output_type": "stream",
          "name": "stdout",
          "text": [
            "Epoch [39/40], Accuracy: 93.48%\n"
          ]
        },
        {
          "output_type": "stream",
          "name": "stderr",
          "text": [
            "Epoch 40/40: 100%|██████████| 98/98 [00:05<00:00, 18.53it/s, loss=0.00477]\n"
          ]
        },
        {
          "output_type": "stream",
          "name": "stdout",
          "text": [
            "Epoch [40/40], Accuracy: 93.51%\n",
            "Target reached. Model saved!\n"
          ]
        }
      ]
    },
    {
      "cell_type": "code",
      "source": [
        "model = ResNet18(num_classes=n_classes).to(device)\n",
        "model.load_state_dict(torch.load(\"/content/drive/MyDrive/resnet18_cifar10.pth\", map_location=device))\n",
        "print(\"Pretrained model loaded!\")\n"
      ],
      "metadata": {
        "colab": {
          "base_uri": "https://localhost:8080/"
        },
        "id": "VCdCBbgoRgq-",
        "outputId": "9e13d3d2-fa04-458b-b40e-e4342e515393"
      },
      "execution_count": null,
      "outputs": [
        {
          "output_type": "stream",
          "name": "stdout",
          "text": [
            "Pretrained model loaded!\n"
          ]
        }
      ]
    },
    {
      "cell_type": "code",
      "source": [
        "criterion = nn.CrossEntropyLoss()\n",
        "optimizer = optim.AdamW(model.parameters(), lr=0.001, weight_decay=1e-4)\n",
        "scaler = GradScaler()\n",
        "\n",
        "num_epochs = 1  # demo only\n",
        "for epoch in range(num_epochs):\n",
        "    model.train()\n",
        "    running_loss = 0.0\n",
        "    progress_bar = tqdm(trainloader, desc=f\"Demo Epoch {epoch+1}/{num_epochs}\")\n",
        "    for inputs, labels in progress_bar:\n",
        "        inputs, labels = inputs.to(device), labels.to(device)\n",
        "        optimizer.zero_grad()\n",
        "        with autocast():\n",
        "            outputs = model(inputs)\n",
        "            loss = criterion(outputs, labels)\n",
        "        scaler.scale(loss).backward()\n",
        "        scaler.step(optimizer)\n",
        "        scaler.update()\n",
        "        running_loss += loss.item()\n",
        "        progress_bar.set_postfix(loss=running_loss/len(trainloader))\n",
        "\n",
        "    # Validation\n",
        "    model.eval()\n",
        "    correct, total = 0, 0\n",
        "    with torch.no_grad():\n",
        "        for inputs, labels in testloader:\n",
        "            inputs, labels = inputs.to(device), labels.to(device)\n",
        "            with autocast():\n",
        "                outputs = model(inputs)\n",
        "            _, predicted = torch.max(outputs, 1)\n",
        "            total += labels.size(0)\n",
        "            correct += (predicted == labels).sum().item()\n",
        "    accuracy = 100 * correct / total\n",
        "    print(f\"Demo Epoch [{epoch+1}/{num_epochs}], Accuracy: {accuracy:.2f}%\")\n"
      ],
      "metadata": {
        "id": "XBwDccoTRldk",
        "colab": {
          "base_uri": "https://localhost:8080/"
        },
        "outputId": "7858760f-aea1-4139-875b-db8830486c1e"
      },
      "execution_count": null,
      "outputs": [
        {
          "output_type": "stream",
          "name": "stderr",
          "text": [
            "/tmp/ipython-input-3507590684.py:3: FutureWarning: `torch.cuda.amp.GradScaler(args...)` is deprecated. Please use `torch.amp.GradScaler('cuda', args...)` instead.\n",
            "  scaler = GradScaler()\n",
            "Demo Epoch 1/1:   0%|          | 0/98 [00:00<?, ?it/s]/tmp/ipython-input-3507590684.py:13: FutureWarning: `torch.cuda.amp.autocast(args...)` is deprecated. Please use `torch.amp.autocast('cuda', args...)` instead.\n",
            "  with autocast():\n",
            "Demo Epoch 1/1: 100%|██████████| 98/98 [00:05<00:00, 18.48it/s, loss=0.0196]\n",
            "/tmp/ipython-input-3507590684.py:28: FutureWarning: `torch.cuda.amp.autocast(args...)` is deprecated. Please use `torch.amp.autocast('cuda', args...)` instead.\n",
            "  with autocast():\n"
          ]
        },
        {
          "output_type": "stream",
          "name": "stdout",
          "text": [
            "Demo Epoch [1/1], Accuracy: 92.99%\n"
          ]
        }
      ]
    },
    {
      "cell_type": "markdown",
      "source": [
        "# 4.1 VAE\n"
      ],
      "metadata": {
        "id": "BvQVvCqrzNjJ"
      }
    },
    {
      "cell_type": "code",
      "source": [
        "from google.colab import drive\n",
        "drive.mount('/content/drive')"
      ],
      "metadata": {
        "colab": {
          "base_uri": "https://localhost:8080/"
        },
        "id": "p8Ddsym1zvzg",
        "outputId": "fa956f38-b45c-41c5-ebd5-6b80da73c56a"
      },
      "execution_count": 5,
      "outputs": [
        {
          "output_type": "stream",
          "name": "stdout",
          "text": [
            "Drive already mounted at /content/drive; to attempt to forcibly remount, call drive.mount(\"/content/drive\", force_remount=True).\n"
          ]
        }
      ]
    },
    {
      "cell_type": "code",
      "source": [
        "# Import necessary libraries\n",
        "import torch\n",
        "import torch.nn as nn\n",
        "import torch.optim as optim\n",
        "from torch.utils.data import DataLoader, Dataset\n",
        "import torchvision.transforms as transforms\n",
        "import os\n",
        "import glob\n",
        "from PIL import Image\n",
        "import numpy as np\n",
        "import matplotlib.pyplot as plt\n",
        "import umap\n",
        "from sklearn.preprocessing import StandardScaler"
      ],
      "metadata": {
        "id": "gITCGFiOBTYY"
      },
      "execution_count": 6,
      "outputs": []
    },
    {
      "cell_type": "code",
      "source": [
        "class CNNVAE(nn.Module):\n",
        "    def __init__(self, latent_dim=32):\n",
        "        super().__init__()\n",
        "        self.latent_dim = latent_dim\n",
        "\n",
        "        # Encoder\n",
        "        self.encoder_conv = nn.Sequential(\n",
        "            nn.Conv2d(1, 32, 3, stride=2, padding=1),  # 28 -> 14\n",
        "            nn.ReLU(),\n",
        "            nn.Conv2d(32, 64, 3, stride=2, padding=1), # 14 -> 7\n",
        "            nn.ReLU(),\n",
        "            nn.Conv2d(64, 128, 3, stride=2, padding=1), # 7 -> 4\n",
        "            nn.ReLU(),\n",
        "            nn.Flatten(),\n",
        "        )\n",
        "\n",
        "        self.fc_mu = nn.Linear(128*4*4, latent_dim)\n",
        "        self.fc_logvar = nn.Linear(128*4*4, latent_dim)\n",
        "\n",
        "        # Decoder\n",
        "        self.decoder_fc = nn.Linear(latent_dim, 128*4*4)\n",
        "\n",
        "        self.decoder_conv = nn.Sequential(\n",
        "            nn.ConvTranspose2d(128, 64, 3, stride=2, padding=1, output_padding=1), # 4 -> 8\n",
        "            nn.ReLU(),\n",
        "            nn.ConvTranspose2d(64, 32, 3, stride=2, padding=1, output_padding=1),  # 8 -> 16\n",
        "            nn.ReLU(),\n",
        "            nn.ConvTranspose2d(32, 1, 3, stride=2, padding=1, output_padding=1),   # 16 -> 32\n",
        "            nn.Sigmoid(),\n",
        "        )\n",
        "\n",
        "    def encode(self, x):\n",
        "        h = self.encoder_conv(x)\n",
        "        return self.fc_mu(h), self.fc_logvar(h)\n",
        "\n",
        "    def reparameterize(self, mu, logvar):\n",
        "        std = torch.exp(0.5 * logvar)\n",
        "        eps = torch.randn_like(std)\n",
        "        return mu + eps * std if self.training else mu\n",
        "\n",
        "    def decode(self, z):\n",
        "        h = self.decoder_fc(z)\n",
        "        h = h.view(-1, 128, 4, 4)\n",
        "        return self.decoder_conv(h)[:, :, :28, :28]  # crop to 28×28\n",
        "\n",
        "    def forward(self, x):\n",
        "        mu, logvar = self.encode(x)\n",
        "        z = self.reparameterize(mu, logvar)\n",
        "        return self.decode(z), mu, logvar\n",
        "\n",
        "\n",
        "def vae_loss_function(recon_x, x, mu, logvar, beta=1.0):\n",
        "    # Reconstruction loss averaged per pixel\n",
        "    BCE = nn.functional.binary_cross_entropy(\n",
        "        recon_x, x, reduction=\"sum\"\n",
        "    ) / x.size(0)  # divide by batch size\n",
        "\n",
        "    # KL divergence\n",
        "    KLD = -0.5 * torch.sum(1 + logvar - mu.pow(2) - logvar.exp()) / x.size(0)\n",
        "\n",
        "    return BCE + beta * KLD, BCE, KLD\n",
        "\n"
      ],
      "metadata": {
        "id": "UpJiuUo9AtED"
      },
      "execution_count": 7,
      "outputs": []
    },
    {
      "cell_type": "code",
      "source": [
        "# --- Data Loading ---\n",
        "class OASISDataset(Dataset):\n",
        "    def __init__(self, root_dir, transform=None):\n",
        "        # The glob.glob function finds all files matching a pattern\n",
        "        # The '**' and 'recursive=True' find images in all subdirectories\n",
        "        self.file_paths = glob.glob(os.path.join(root_dir, '**', '*.png'), recursive=True)\n",
        "        self.transform = transform\n",
        "\n",
        "    def __len__(self):\n",
        "        return len(self.file_paths)\n",
        "\n",
        "    def __getitem__(self, idx):\n",
        "        img_path = self.file_paths[idx]\n",
        "        image = Image.open(img_path).convert('L') # Convert to grayscale\n",
        "\n",
        "        if self.transform:\n",
        "            image = self.transform(image)\n",
        "\n",
        "        return image\n",
        "\n",
        "# Define transformations to resize and convert images to tensors\n",
        "transformations = transforms.Compose([\n",
        "    transforms.Resize((28, 28)), # Resize to 28x28\n",
        "    transforms.ToTensor(),       # Convert to a PyTorch tensor (values between 0 and 1)\n",
        "])\n",
        "\n",
        "# Define paths on the Rangpur cluster\n",
        "data_path = '/content/drive/My Drive/OASIS'\n",
        "train_dir = os.path.join(data_path, 'keras_png_slices_train')\n",
        "test_dir = os.path.join(data_path, 'keras_png_slices_test')\n",
        "\n",
        "# Create a dataset and a data loader for the training data\n",
        "train_dataset = OASISDataset(root_dir=train_dir, transform=transformations)\n",
        "train_loader = DataLoader(train_dataset, batch_size=128, shuffle=True)"
      ],
      "metadata": {
        "id": "IP8WSsVlziB6"
      },
      "execution_count": 8,
      "outputs": []
    },
    {
      "cell_type": "code",
      "source": [
        "# --- Training Loop ---\n",
        "device = torch.device('cuda' if torch.cuda.is_available() else 'cpu')\n",
        "print(f\"Using device: {device}\")\n",
        "\n",
        "model = CNNVAE(latent_dim=32).to(device)\n",
        "optimizer = optim.Adam(model.parameters(), lr=1e-3)\n",
        "epochs = 50 # Increase this for better results\n",
        "\n",
        "print(\"Starting VAE training...\")\n",
        "\n",
        "for epoch in range(epochs):\n",
        "    model.train()\n",
        "    train_loss = 0\n",
        "    for batch_idx, data in enumerate(train_loader):\n",
        "        data = data.to(device)\n",
        "        optimizer.zero_grad()\n",
        "\n",
        "        recon_batch, mu, logvar = model(data)\n",
        "        loss, _, _ = vae_loss_function(recon_batch, data, mu, logvar)\n",
        "\n",
        "        loss.backward()\n",
        "        train_loss += loss.item()\n",
        "        optimizer.step()\n",
        "\n",
        "        if (batch_idx + 1) % 100 == 0:\n",
        "            print(f'Epoch: {epoch+1}, Batch: {batch_idx+1}/{len(train_loader)}, Loss: {loss.item() / len(data):.4f}')\n",
        "\n",
        "    avg_loss = train_loss / len(train_loader.dataset)\n",
        "    print(f'Epoch: {epoch+1}, Average Loss: {avg_loss:.4f}')\n",
        "\n",
        "print(\"Training complete.\")\n",
        "torch.save(model.state_dict(), 'vae_oasis.pth')"
      ],
      "metadata": {
        "id": "nRKkIuG25AL_"
      },
      "execution_count": null,
      "outputs": []
    },
    {
      "cell_type": "code",
      "source": [
        "# --- Latent Manifold Visualization (Sampling) ---\n",
        "model.eval()\n",
        "print(\"Generating latent space visualization by sampling...\")\n",
        "\n",
        "# Create a 2D sampling grid from a 2D slice of the 32D latent space\n",
        "n = 10  # Number of images per row/column\n",
        "grid_x = np.linspace(-3, 3, n)\n",
        "grid_y = np.linspace(-3, 3, n)\n",
        "\n",
        "figure = np.zeros((28 * n, 28 * n))\n",
        "latent_dim = 32\n",
        "\n",
        "with torch.no_grad():\n",
        "    for i, yi in enumerate(grid_y):\n",
        "        for j, xi in enumerate(grid_x):\n",
        "            z = torch.zeros(1, latent_dim).to(device)\n",
        "            z[0, 0] = xi  # Sample along the first latent dimension\n",
        "            z[0, 1] = yi  # Sample along the second latent dimension\n",
        "\n",
        "            reconstruction = model.decode(z).cpu()\n",
        "            img = reconstruction.view(28, 28).numpy()\n",
        "            figure[i * 28: (i + 1) * 28, j * 28: (j + 1) * 28] = img\n",
        "\n",
        "plt.figure(figsize=(10, 10))\n",
        "plt.imshow(figure, cmap='gray')\n",
        "plt.title('VAE Latent Manifold Visualization (Sampling from 2D Slice)')\n",
        "plt.axis('off')\n",
        "plt.savefig('vae_manifold_sampling.png')\n",
        "plt.show()\n",
        "\n",
        "# --- Latent Manifold Visualization (UMAP) ---\n",
        "print(\"Generating latent space visualization using UMAP...\")\n",
        "\n",
        "# Collect latent vectors from the test set\n",
        "test_dataset = OASISDataset(root_dir=test_dir, transform=transformations)\n",
        "test_loader = DataLoader(test_dataset, batch_size=128)\n",
        "\n",
        "latents = []\n",
        "with torch.no_grad():\n",
        "    for data in test_loader:\n",
        "        data = data.to(device)\n",
        "        mu, _ = model.encode(data)\n",
        "        latents.append(mu.cpu().numpy())\n",
        "\n",
        "latents = np.concatenate(latents, axis=0)\n",
        "latents = StandardScaler().fit_transform(latents)\n",
        "\n",
        "# Reduce dimensionality to 2 using UMAP\n",
        "reducer = umap.UMAP(n_components=2, random_state=42)\n",
        "embedding = reducer.fit_transform(latents)\n",
        "\n",
        "plt.figure(figsize=(10, 8))\n",
        "plt.scatter(embedding[:, 0], embedding[:, 1], s=1, alpha=0.5)\n",
        "plt.title('UMAP Projection of VAE Latent Space')\n",
        "plt.xlabel('UMAP Dimension 1')\n",
        "plt.ylabel('UMAP Dimension 2')\n",
        "plt.savefig('vae_manifold_umap.png')\n",
        "plt.show()"
      ],
      "metadata": {
        "id": "bhWZlJYz5JST"
      },
      "execution_count": null,
      "outputs": []
    },
    {
      "cell_type": "markdown",
      "source": [
        "# 4.2 UNET"
      ],
      "metadata": {
        "id": "7Np8wdZ2zRWx"
      }
    },
    {
      "cell_type": "code",
      "source": [],
      "metadata": {
        "colab": {
          "base_uri": "https://localhost:8080/",
          "height": 287
        },
        "id": "sqErHnvGhIxY",
        "outputId": "21e990cb-aea3-4a2c-fa43-2cb66e36c642"
      },
      "execution_count": null,
      "outputs": [
        {
          "output_type": "stream",
          "name": "stdout",
          "text": [
            "Using device: cuda\n",
            "Train data path: /content/drive/OASIS/keras_png_slices_train\n",
            "Validation data path: /content/drive/OASIS/keras_png_slices_validate\n",
            "No PNG images found in /content/drive/OASIS/keras_png_slices_train. Please check the path.\n"
          ]
        },
        {
          "output_type": "error",
          "ename": "NameError",
          "evalue": "name 'train_loader' is not defined",
          "traceback": [
            "\u001b[0;31m---------------------------------------------------------------------------\u001b[0m",
            "\u001b[0;31mNameError\u001b[0m                                 Traceback (most recent call last)",
            "\u001b[0;32m/tmp/ipython-input-2218853660.py\u001b[0m in \u001b[0;36m<cell line: 0>\u001b[0;34m()\u001b[0m\n\u001b[1;32m    221\u001b[0m \u001b[0;34m\u001b[0m\u001b[0m\n\u001b[1;32m    222\u001b[0m     \u001b[0;32mfor\u001b[0m \u001b[0mepoch\u001b[0m \u001b[0;32min\u001b[0m \u001b[0mrange\u001b[0m\u001b[0;34m(\u001b[0m\u001b[0;36m1\u001b[0m\u001b[0;34m,\u001b[0m \u001b[0mEPOCHS\u001b[0m \u001b[0;34m+\u001b[0m \u001b[0;36m1\u001b[0m\u001b[0;34m)\u001b[0m\u001b[0;34m:\u001b[0m\u001b[0;34m\u001b[0m\u001b[0;34m\u001b[0m\u001b[0m\n\u001b[0;32m--> 223\u001b[0;31m         \u001b[0mtrain_loss\u001b[0m \u001b[0;34m=\u001b[0m \u001b[0mtrain\u001b[0m\u001b[0;34m(\u001b[0m\u001b[0mmodel\u001b[0m\u001b[0;34m,\u001b[0m \u001b[0mtrain_loader\u001b[0m\u001b[0;34m,\u001b[0m \u001b[0moptimizer\u001b[0m\u001b[0;34m)\u001b[0m\u001b[0;34m\u001b[0m\u001b[0;34m\u001b[0m\u001b[0m\n\u001b[0m\u001b[1;32m    224\u001b[0m         \u001b[0mval_loss\u001b[0m \u001b[0;34m=\u001b[0m \u001b[0mvalidate\u001b[0m\u001b[0;34m(\u001b[0m\u001b[0mmodel\u001b[0m\u001b[0;34m,\u001b[0m \u001b[0mval_loader\u001b[0m\u001b[0;34m)\u001b[0m\u001b[0;34m\u001b[0m\u001b[0;34m\u001b[0m\u001b[0m\n\u001b[1;32m    225\u001b[0m         \u001b[0mprint\u001b[0m\u001b[0;34m(\u001b[0m\u001b[0;34mf'====> Epoch: {epoch} | Train loss: {train_loss:.4f} | Val loss: {val_loss:.4f}'\u001b[0m\u001b[0;34m)\u001b[0m\u001b[0;34m\u001b[0m\u001b[0;34m\u001b[0m\u001b[0m\n",
            "\u001b[0;31mNameError\u001b[0m: name 'train_loader' is not defined"
          ]
        }
      ]
    },
    {
      "cell_type": "markdown",
      "source": [
        "# 4.3 GAN"
      ],
      "metadata": {
        "id": "6GbonWgXzUs3"
      }
    }
  ],
  "metadata": {
    "colab": {
      "provenance": [],
      "gpuType": "A100",
      "include_colab_link": true
    },
    "kernelspec": {
      "display_name": "Python 3",
      "name": "python3"
    },
    "accelerator": "GPU"
  },
  "nbformat": 4,
  "nbformat_minor": 0
}